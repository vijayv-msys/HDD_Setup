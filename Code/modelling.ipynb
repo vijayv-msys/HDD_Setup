{
 "cells": [
  {
   "cell_type": "code",
   "execution_count": 1,
   "id": "87c9b438-65a7-482b-b6ee-f9d7025e4ba7",
   "metadata": {},
   "outputs": [
    {
     "name": "stderr",
     "output_type": "stream",
     "text": [
      "23/06/06 20:20:13 WARN Utils: Your hostname, msys-virtual-machine resolves to a loopback address: 127.0.1.1; using 172.30.44.147 instead (on interface ens160)\n",
      "23/06/06 20:20:13 WARN Utils: Set SPARK_LOCAL_IP if you need to bind to another address\n",
      "Setting default log level to \"WARN\".\n",
      "To adjust logging level use sc.setLogLevel(newLevel). For SparkR, use setLogLevel(newLevel).\n",
      "23/06/06 20:20:14 WARN NativeCodeLoader: Unable to load native-hadoop library for your platform... using builtin-java classes where applicable\n",
      "                                                                                \r"
     ]
    }
   ],
   "source": [
    "from pyspark.sql import SparkSession\n",
    "from pyspark.sql.functions import col\n",
    "import os\n",
    "import glob\n",
    "import numpy as np\n",
    "from numpy import int64\n",
    "import pandas as pd\n",
    "from pandas.plotting import scatter_matrix\n",
    "import matplotlib \n",
    "from matplotlib import rcParams\n",
    "import matplotlib.pyplot as plt\n",
    "%config Inlinebackend.figure_format='retina'\n",
    "%matplotlib inline\n",
    "import seaborn as sns\n",
    "sns.set(style='darkgrid')\n",
    "from sklearn.model_selection import train_test_split,cross_val_score, KFold, RandomizedSearchCV, GridSearchCV\n",
    "from sklearn.pipeline import Pipeline\n",
    "from sklearn import svm\n",
    "from sklearn.svm import SVC\n",
    "from sklearn.ensemble import IsolationForest\n",
    "from sklearn.preprocessing import QuantileTransformer\n",
    "from sklearn.preprocessing import StandardScaler\n",
    "from sklearn.linear_model import LogisticRegression\n",
    "from sklearn.neighbors import KNeighborsClassifier\n",
    "from sklearn.ensemble import AdaBoostClassifier,RandomForestClassifier\n",
    "from imblearn.over_sampling import SMOTE\n",
    "import xgboost\n",
    "from xgboost import XGBClassifier\n",
    "from sklearn.naive_bayes import GaussianNB\n",
    "from sklearn.neighbors import KNeighborsClassifier\n",
    "from sklearn.preprocessing import StandardScaler\n",
    "from sklearn.metrics import roc_auc_score, roc_curve,classification_report,confusion_matrix,accuracy_score,precision_score,recall_score,f1_score,matthews_corrcoef\n",
    "from scipy import stats\n",
    "from sklearn.utils import resample\n",
    "import warnings \n",
    "warnings.filterwarnings('ignore')\n",
    "spark=SparkSession.builder.appName('Model').enableHiveSupport().getOrCreate()\n",
    "df = spark.read.csv(path='file:///home/msys/code/dataset.csv',header=True,inferSchema=True,)\n",
    "\n",
    "\n",
    "df = df.fillna('null').select([col(c).cast(\"integer\").alias(c) for c in df.columns])\n",
    "df = df.fillna(0)"
   ]
  },
  {
   "cell_type": "code",
   "execution_count": null,
   "id": "8fd1ea62-9d2d-46aa-aa80-27b2b9090c94",
   "metadata": {},
   "outputs": [],
   "source": []
  },
  {
   "cell_type": "code",
   "execution_count": 2,
   "id": "7585f7c8-2534-41c0-a8cf-9bef547551aa",
   "metadata": {},
   "outputs": [],
   "source": [
    "selected_features=['smart_183_raw', 'smart_183_normalized', 'smart_189_raw', 'smart_189_normalized', 'smart_184_normalized', 'smart_184_raw', 'smart_188_normalized', 'smart_188_raw', 'smart_187_normalized', 'smart_187_raw', 'smart_241_normalized', 'smart_242_raw', 'smart_242_normalized', 'smart_241_raw', 'smart_191_raw', 'smart_191_normalized', 'smart_240_raw', 'smart_240_normalized', 'smart_193_raw', 'smart_193_normalized', 'smart_10_normalized', 'smart_7_raw', 'smart_7_normalized', 'smart_4_raw', 'smart_4_normalized', 'smart_3_raw', 'smart_10_raw', 'smart_3_normalized', 'smart_197_normalized', 'smart_197_raw', 'smart_198_normalized', 'smart_198_raw', 'smart_5_normalized', 'smart_5_raw', 'smart_199_normalized', 'smart_199_raw', 'smart_192_normalized', 'smart_1_raw', 'smart_1_normalized', 'smart_194_raw', 'smart_9_raw', 'smart_9_normalized', 'smart_194_normalized', 'smart_12_normalized', 'model', 'failure', 'capacity_bytes', 'serial_number']"
   ]
  },
  {
   "cell_type": "code",
   "execution_count": 3,
   "id": "8f76526f-adb5-44f7-bd81-c5af9fba62bd",
   "metadata": {},
   "outputs": [],
   "source": [
    "df = df[selected_features]"
   ]
  },
  {
   "cell_type": "code",
   "execution_count": 4,
   "id": "5a95d02d-578a-45e8-972f-12f8df723d8d",
   "metadata": {},
   "outputs": [
    {
     "name": "stderr",
     "output_type": "stream",
     "text": [
      "23/06/06 20:20:23 WARN package: Truncated the string representation of a plan since it was too large. This behavior can be adjusted by setting 'spark.sql.debug.maxToStringFields'.\n"
     ]
    }
   ],
   "source": [
    "df = df.toPandas()"
   ]
  },
  {
   "cell_type": "code",
   "execution_count": 5,
   "id": "f5786936-b584-4003-9840-04e3b00f0cbb",
   "metadata": {},
   "outputs": [
    {
     "name": "stdout",
     "output_type": "stream",
     "text": [
      "<class 'pandas.core.frame.DataFrame'>\n",
      "RangeIndex: 7929 entries, 0 to 7928\n",
      "Data columns (total 48 columns):\n",
      " #   Column                Non-Null Count  Dtype\n",
      "---  ------                --------------  -----\n",
      " 0   smart_183_raw         7929 non-null   int32\n",
      " 1   smart_183_normalized  7929 non-null   int32\n",
      " 2   smart_189_raw         7929 non-null   int32\n",
      " 3   smart_189_normalized  7929 non-null   int32\n",
      " 4   smart_184_normalized  7929 non-null   int32\n",
      " 5   smart_184_raw         7929 non-null   int32\n",
      " 6   smart_188_normalized  7929 non-null   int32\n",
      " 7   smart_188_raw         7929 non-null   int32\n",
      " 8   smart_187_normalized  7929 non-null   int32\n",
      " 9   smart_187_raw         7929 non-null   int32\n",
      " 10  smart_241_normalized  7929 non-null   int32\n",
      " 11  smart_242_raw         7929 non-null   int32\n",
      " 12  smart_242_normalized  7929 non-null   int32\n",
      " 13  smart_241_raw         7929 non-null   int32\n",
      " 14  smart_191_raw         7929 non-null   int32\n",
      " 15  smart_191_normalized  7929 non-null   int32\n",
      " 16  smart_240_raw         7929 non-null   int32\n",
      " 17  smart_240_normalized  7929 non-null   int32\n",
      " 18  smart_193_raw         7929 non-null   int32\n",
      " 19  smart_193_normalized  7929 non-null   int32\n",
      " 20  smart_10_normalized   7929 non-null   int32\n",
      " 21  smart_7_raw           7929 non-null   int32\n",
      " 22  smart_7_normalized    7929 non-null   int32\n",
      " 23  smart_4_raw           7929 non-null   int32\n",
      " 24  smart_4_normalized    7929 non-null   int32\n",
      " 25  smart_3_raw           7929 non-null   int32\n",
      " 26  smart_10_raw          7929 non-null   int32\n",
      " 27  smart_3_normalized    7929 non-null   int32\n",
      " 28  smart_197_normalized  7929 non-null   int32\n",
      " 29  smart_197_raw         7929 non-null   int32\n",
      " 30  smart_198_normalized  7929 non-null   int32\n",
      " 31  smart_198_raw         7929 non-null   int32\n",
      " 32  smart_5_normalized    7929 non-null   int32\n",
      " 33  smart_5_raw           7929 non-null   int32\n",
      " 34  smart_199_normalized  7929 non-null   int32\n",
      " 35  smart_199_raw         7929 non-null   int32\n",
      " 36  smart_192_normalized  7929 non-null   int32\n",
      " 37  smart_1_raw           7929 non-null   int32\n",
      " 38  smart_1_normalized    7929 non-null   int32\n",
      " 39  smart_194_raw         7929 non-null   int32\n",
      " 40  smart_9_raw           7929 non-null   int32\n",
      " 41  smart_9_normalized    7929 non-null   int32\n",
      " 42  smart_194_normalized  7929 non-null   int32\n",
      " 43  smart_12_normalized   7929 non-null   int32\n",
      " 44  model                 7929 non-null   int32\n",
      " 45  failure               7929 non-null   int32\n",
      " 46  capacity_bytes        7929 non-null   int32\n",
      " 47  serial_number         7929 non-null   int32\n",
      "dtypes: int32(48)\n",
      "memory usage: 1.5 MB\n"
     ]
    }
   ],
   "source": [
    "df.info()"
   ]
  },
  {
   "cell_type": "code",
   "execution_count": 6,
   "id": "54a57317-8c60-41f8-92e7-bdb4cea1e858",
   "metadata": {},
   "outputs": [
    {
     "name": "stdout",
     "output_type": "stream",
     "text": [
      "failure\n",
      "0    5601\n",
      "1    5601\n",
      "Name: count, dtype: int64\n"
     ]
    },
    {
     "data": {
      "text/html": [
       "<style>#sk-container-id-1 {color: black;background-color: white;}#sk-container-id-1 pre{padding: 0;}#sk-container-id-1 div.sk-toggleable {background-color: white;}#sk-container-id-1 label.sk-toggleable__label {cursor: pointer;display: block;width: 100%;margin-bottom: 0;padding: 0.3em;box-sizing: border-box;text-align: center;}#sk-container-id-1 label.sk-toggleable__label-arrow:before {content: \"▸\";float: left;margin-right: 0.25em;color: #696969;}#sk-container-id-1 label.sk-toggleable__label-arrow:hover:before {color: black;}#sk-container-id-1 div.sk-estimator:hover label.sk-toggleable__label-arrow:before {color: black;}#sk-container-id-1 div.sk-toggleable__content {max-height: 0;max-width: 0;overflow: hidden;text-align: left;background-color: #f0f8ff;}#sk-container-id-1 div.sk-toggleable__content pre {margin: 0.2em;color: black;border-radius: 0.25em;background-color: #f0f8ff;}#sk-container-id-1 input.sk-toggleable__control:checked~div.sk-toggleable__content {max-height: 200px;max-width: 100%;overflow: auto;}#sk-container-id-1 input.sk-toggleable__control:checked~label.sk-toggleable__label-arrow:before {content: \"▾\";}#sk-container-id-1 div.sk-estimator input.sk-toggleable__control:checked~label.sk-toggleable__label {background-color: #d4ebff;}#sk-container-id-1 div.sk-label input.sk-toggleable__control:checked~label.sk-toggleable__label {background-color: #d4ebff;}#sk-container-id-1 input.sk-hidden--visually {border: 0;clip: rect(1px 1px 1px 1px);clip: rect(1px, 1px, 1px, 1px);height: 1px;margin: -1px;overflow: hidden;padding: 0;position: absolute;width: 1px;}#sk-container-id-1 div.sk-estimator {font-family: monospace;background-color: #f0f8ff;border: 1px dotted black;border-radius: 0.25em;box-sizing: border-box;margin-bottom: 0.5em;}#sk-container-id-1 div.sk-estimator:hover {background-color: #d4ebff;}#sk-container-id-1 div.sk-parallel-item::after {content: \"\";width: 100%;border-bottom: 1px solid gray;flex-grow: 1;}#sk-container-id-1 div.sk-label:hover label.sk-toggleable__label {background-color: #d4ebff;}#sk-container-id-1 div.sk-serial::before {content: \"\";position: absolute;border-left: 1px solid gray;box-sizing: border-box;top: 0;bottom: 0;left: 50%;z-index: 0;}#sk-container-id-1 div.sk-serial {display: flex;flex-direction: column;align-items: center;background-color: white;padding-right: 0.2em;padding-left: 0.2em;position: relative;}#sk-container-id-1 div.sk-item {position: relative;z-index: 1;}#sk-container-id-1 div.sk-parallel {display: flex;align-items: stretch;justify-content: center;background-color: white;position: relative;}#sk-container-id-1 div.sk-item::before, #sk-container-id-1 div.sk-parallel-item::before {content: \"\";position: absolute;border-left: 1px solid gray;box-sizing: border-box;top: 0;bottom: 0;left: 50%;z-index: -1;}#sk-container-id-1 div.sk-parallel-item {display: flex;flex-direction: column;z-index: 1;position: relative;background-color: white;}#sk-container-id-1 div.sk-parallel-item:first-child::after {align-self: flex-end;width: 50%;}#sk-container-id-1 div.sk-parallel-item:last-child::after {align-self: flex-start;width: 50%;}#sk-container-id-1 div.sk-parallel-item:only-child::after {width: 0;}#sk-container-id-1 div.sk-dashed-wrapped {border: 1px dashed gray;margin: 0 0.4em 0.5em 0.4em;box-sizing: border-box;padding-bottom: 0.4em;background-color: white;}#sk-container-id-1 div.sk-label label {font-family: monospace;font-weight: bold;display: inline-block;line-height: 1.2em;}#sk-container-id-1 div.sk-label-container {text-align: center;}#sk-container-id-1 div.sk-container {/* jupyter's `normalize.less` sets `[hidden] { display: none; }` but bootstrap.min.css set `[hidden] { display: none !important; }` so we also need the `!important` here to be able to override the default hidden behavior on the sphinx rendered scikit-learn.org. See: https://github.com/scikit-learn/scikit-learn/issues/21755 */display: inline-block !important;position: relative;}#sk-container-id-1 div.sk-text-repr-fallback {display: none;}</style><div id=\"sk-container-id-1\" class=\"sk-top-container\"><div class=\"sk-text-repr-fallback\"><pre>XGBClassifier(base_score=None, booster=None, callbacks=None,\n",
       "              colsample_bylevel=None, colsample_bynode=None,\n",
       "              colsample_bytree=None, early_stopping_rounds=None,\n",
       "              enable_categorical=False, eta=0.3, eval_metric=None,\n",
       "              feature_types=None, gamma=1, gpu_id=None, grow_policy=None,\n",
       "              importance_type=None, interaction_constraints=None,\n",
       "              learning_rate=None, max_bin=None, max_cat_threshold=None,\n",
       "              max_cat_to_onehot=None, max_delta_step=None, max_depth=4,\n",
       "              max_leaves=None, min_child_weight=None, missing=nan,\n",
       "              monotone_constraints=None, n_estimators=650, n_jobs=None,\n",
       "              num_parallel_tree=None, predictor=None, ...)</pre><b>In a Jupyter environment, please rerun this cell to show the HTML representation or trust the notebook. <br />On GitHub, the HTML representation is unable to render, please try loading this page with nbviewer.org.</b></div><div class=\"sk-container\" hidden><div class=\"sk-item\"><div class=\"sk-estimator sk-toggleable\"><input class=\"sk-toggleable__control sk-hidden--visually\" id=\"sk-estimator-id-1\" type=\"checkbox\" checked><label for=\"sk-estimator-id-1\" class=\"sk-toggleable__label sk-toggleable__label-arrow\">XGBClassifier</label><div class=\"sk-toggleable__content\"><pre>XGBClassifier(base_score=None, booster=None, callbacks=None,\n",
       "              colsample_bylevel=None, colsample_bynode=None,\n",
       "              colsample_bytree=None, early_stopping_rounds=None,\n",
       "              enable_categorical=False, eta=0.3, eval_metric=None,\n",
       "              feature_types=None, gamma=1, gpu_id=None, grow_policy=None,\n",
       "              importance_type=None, interaction_constraints=None,\n",
       "              learning_rate=None, max_bin=None, max_cat_threshold=None,\n",
       "              max_cat_to_onehot=None, max_delta_step=None, max_depth=4,\n",
       "              max_leaves=None, min_child_weight=None, missing=nan,\n",
       "              monotone_constraints=None, n_estimators=650, n_jobs=None,\n",
       "              num_parallel_tree=None, predictor=None, ...)</pre></div></div></div></div></div>"
      ],
      "text/plain": [
       "XGBClassifier(base_score=None, booster=None, callbacks=None,\n",
       "              colsample_bylevel=None, colsample_bynode=None,\n",
       "              colsample_bytree=None, early_stopping_rounds=None,\n",
       "              enable_categorical=False, eta=0.3, eval_metric=None,\n",
       "              feature_types=None, gamma=1, gpu_id=None, grow_policy=None,\n",
       "              importance_type=None, interaction_constraints=None,\n",
       "              learning_rate=None, max_bin=None, max_cat_threshold=None,\n",
       "              max_cat_to_onehot=None, max_delta_step=None, max_depth=4,\n",
       "              max_leaves=None, min_child_weight=None, missing=nan,\n",
       "              monotone_constraints=None, n_estimators=650, n_jobs=None,\n",
       "              num_parallel_tree=None, predictor=None, ...)"
      ]
     },
     "execution_count": 6,
     "metadata": {},
     "output_type": "execute_result"
    },
    {
     "data": {
      "image/png": "[encoded data removed]",
      "text/plain": [
       "<Figure size 640x480 with 1 Axes>"
      ]
     },
     "metadata": {},
     "output_type": "display_data"
    }
   ],
   "source": [
    "X =df.drop('failure', axis=1)\n",
    "y = df['failure']\n",
    "\n",
    "## Divide the dataset into Train and Test\n",
    "X_train, X_test, y_train, y_test = train_test_split(X, y, test_size=0.20, random_state=42)\n",
    "model_names=X_test['model']\n",
    "serial_number=X_test['serial_number']\n",
    "\n",
    "categoricalColumns = ['model','serial_number']\n",
    "\n",
    "X_train = pd.get_dummies(X_train, columns = ['model','serial_number'])\n",
    "X_test= pd.get_dummies(X_test, columns = ['model','serial_number'])\n",
    "\n",
    "\n",
    "oversample = SMOTE()\n",
    "X_train, y_train = oversample.fit_resample(X_train, y_train)\n",
    "print(y_train.value_counts())\n",
    "\n",
    "sns.countplot(x=y_train, palette='seismic')\n",
    "model=XGBClassifier(scale_pos_weight= 3.054054054054054, reg_lambda=0.1, reg_alpha= 0.1, n_estimators= 650, max_depth= 4, gamma= 1, eta= 0.3)\n",
    "model.fit(X_train, y_train)"
   ]
  },
  {
   "cell_type": "code",
   "execution_count": 7,
   "id": "c2a24d4e-acbf-4665-9661-2f737f200b90",
   "metadata": {},
   "outputs": [
    {
     "name": "stdout",
     "output_type": "stream",
     "text": [
      "Final Model: SMOTE XGBoost\n",
      "train score: 1.0\n",
      "test score: 0.992\n"
     ]
    }
   ],
   "source": [
    "print(\"Final Model: SMOTE XGBoost\")\n",
    "print(\"train score:\", round(model.score(X_train, y_train),3))\n",
    "print(\"test score:\", round(model.score(X_test, y_test),3))"
   ]
  },
  {
   "cell_type": "code",
   "execution_count": 8,
   "id": "0fc16c33-d025-44b7-bc4d-51d9ecf008fd",
   "metadata": {},
   "outputs": [
    {
     "data": {
      "image/png": "[encoded data removed]",
      "text/plain": [
       "<Figure size 600x500 with 2 Axes>"
      ]
     },
     "metadata": {},
     "output_type": "display_data"
    }
   ],
   "source": [
    "#confusion matrix\n",
    "predictions = model.predict(X_test)\n",
    "cf_matrix = confusion_matrix(y_test, predictions)\n",
    "\n",
    "#labels for the inside of heatmap\n",
    "group_names = ['True Neg','False Pos','False Neg','True Pos']\n",
    "group_counts = ['n={0:0.0f}'.format(value) for value in cf_matrix.flatten()]\n",
    "group_percentages = ['{0:.2%}'.format(value) for value in cf_matrix.flatten()/np.sum(cf_matrix)]\n",
    "\n",
    "#put them next line\n",
    "labels = [f'{v1}\\n{v2}\\n{v3}' for v1, v2, v3 in zip(group_names,group_counts,group_percentages)]\n",
    "\n",
    "#in array 2,2 cos the heatmap will be 2,2\n",
    "labels = np.asarray(labels).reshape(2,2)\n",
    "\n",
    "#class labeling\n",
    "yticklabels=['Not Fraud','Fraud']\n",
    "xticklabels=['Predicted as\\nNot Fraud','Predicted as\\nFraud']\n",
    "\n",
    "\n",
    "# Set the default matplotlib figure size to 7x7:\n",
    "fix, ax = plt.subplots(figsize=(6,5))\n",
    "\n",
    "# Plot the heatmap with seaborn.\n",
    "# Assign the matplotlib axis the function returns. This will let us resize the labels.\n",
    "sns.set()\n",
    "ax = sns.heatmap(cf_matrix, annot=labels, \n",
    "            xticklabels = xticklabels, yticklabels = yticklabels, \n",
    "            fmt='', cmap='Blues');\n",
    "\n",
    "# Resize the labels.\n",
    "ax.set_title('Confusion matrix', fontsize=15,  fontweight='bold')\n",
    "ax.set_xticklabels(ax.xaxis.get_ticklabels(), fontsize=11, ha= 'center', rotation=0 )\n",
    "ax.set_yticklabels(ax.yaxis.get_ticklabels(), fontsize=11, va=\"center\", rotation=0);"
   ]
  },
  {
   "cell_type": "code",
   "execution_count": 9,
   "id": "993c2f24-d726-4b35-ac3c-6ce71c882366",
   "metadata": {},
   "outputs": [
    {
     "name": "stdout",
     "output_type": "stream",
     "text": [
      "              precision    recall  f1-score   support\n",
      "\n",
      "   Not Fraud       1.00      0.99      1.00      1399\n",
      "       Fraud       0.96      0.98      0.97       187\n",
      "\n",
      "    accuracy                           0.99      1586\n",
      "   macro avg       0.98      0.99      0.98      1586\n",
      "weighted avg       0.99      0.99      0.99      1586\n",
      "\n"
     ]
    }
   ],
   "source": [
    "#classification report\n",
    "\n",
    "predictions = model.predict(X_test)\n",
    "print(classification_report(y_test, predictions, target_names=['Not Fraud',\"Fraud\"]))"
   ]
  },
  {
   "cell_type": "code",
   "execution_count": 11,
   "id": "a0ee70ac-b63c-4f32-a073-1d9c666db93c",
   "metadata": {},
   "outputs": [],
   "source": [
    "import pickle\n",
    "#model=XGBClassifier(scale_pos_weight= 3.054054054054054, reg_lambda=0.1, reg_alpha= 0.1, n_estimators= 650, max_depth= 4, gamma= 1, eta= 0.3)\n",
    "predictions=model.predict(X_test)\n",
    "filename='Model.pkl'\n",
    "pickle.dump(model,open(filename,'wb'))"
   ]
  },
  {
   "cell_type": "code",
   "execution_count": null,
   "id": "d9838a0b-247e-4542-a5dc-1a6c9299b2a3",
   "metadata": {},
   "outputs": [],
   "source": []
  },
  {
   "cell_type": "code",
   "execution_count": 12,
   "id": "838700a8-bfef-474c-8472-44e851bb9fb4",
   "metadata": {},
   "outputs": [],
   "source": [
    "predictions=model.predict(X_test)"
   ]
  },
  {
   "cell_type": "code",
   "execution_count": 17,
   "id": "d5b5922a-87aa-49e0-b99b-654e77d152ad",
   "metadata": {},
   "outputs": [
    {
     "name": "stdout",
     "output_type": "stream",
     "text": [
      "Active\n"
     ]
    }
   ],
   "source": [
    "predictions1=model.predict(X_test.values[13:14])[0]\n",
    "if predictions1==1:\n",
    "    print('Failed')\n",
    "elif predictions1==0:\n",
    "    print('Active')"
   ]
  },
  {
   "cell_type": "code",
   "execution_count": 45,
   "id": "003bddd4-5c3b-4936-bf79-f8eb4f10c4d2",
   "metadata": {},
   "outputs": [
    {
     "name": "stdout",
     "output_type": "stream",
     "text": [
      "0       Active\n",
      "1       Active\n",
      "2       Active\n",
      "3       Active\n",
      "4       Active\n",
      "         ...  \n",
      "1581    Active\n",
      "1582    Failed\n",
      "1583    Active\n",
      "1584    Active\n",
      "1585    Active\n",
      "Name: failure, Length: 1586, dtype: object\n"
     ]
    }
   ],
   "source": [
    "\n",
    "test_target = y_test\n",
    "test_target.reset_index(drop=True, inplace=True)\n",
    "\n",
    "test_target = test_target.replace({1:'Failed', 0:'Active'})\n",
    "print(test_target)\n",
    "\n",
    "predicted_target = model.predict(X_test)\n",
    "predicted_target = pd.Series(predicted_target).replace({1:'Failed', 0:'Active'})\n",
    "print()"
   ]
  },
  {
   "cell_type": "code",
   "execution_count": 54,
   "id": "cd0f098c-0af2-48d9-bff4-182efbddf7ef",
   "metadata": {},
   "outputs": [],
   "source": [
    "xgb_pred_prob = model.predict_proba(X_test)[:,1]\n",
    "active_prob=1-xgb_pred_prob"
   ]
  },
  {
   "cell_type": "code",
   "execution_count": 55,
   "id": "d5e90da5-bfcf-40b3-af80-c835a59a45d8",
   "metadata": {},
   "outputs": [],
   "source": [
    "df=pd.DataFrame()\n",
    "df['Serial_number']=serial_number\n",
    "df['Model']= model_names\n",
    "df['Actual']=test_target \n",
    "df['Prediction']=predicted_target\n",
    "df['Active_probability']=active_prob\n",
    "df['Failure_probability']=xgb_pred_prob"
   ]
  },
  {
   "cell_type": "code",
   "execution_count": 56,
   "id": "f0541d77-fe55-44a8-b56c-dd4ddab56a77",
   "metadata": {},
   "outputs": [
    {
     "data": {
      "text/html": [
       "<div>\n",
       "<style scoped>\n",
       "    .dataframe tbody tr th:only-of-type {\n",
       "        vertical-align: middle;\n",
       "    }\n",
       "\n",
       "    .dataframe tbody tr th {\n",
       "        vertical-align: top;\n",
       "    }\n",
       "\n",
       "    .dataframe thead th {\n",
       "        text-align: right;\n",
       "    }\n",
       "</style>\n",
       "<table border=\"1\" class=\"dataframe\">\n",
       "  <thead>\n",
       "    <tr style=\"text-align: right;\">\n",
       "      <th></th>\n",
       "      <th>Serial_number</th>\n",
       "      <th>Model</th>\n",
       "      <th>Actual</th>\n",
       "      <th>Prediction</th>\n",
       "      <th>Active_probability</th>\n",
       "      <th>Failure_probability</th>\n",
       "    </tr>\n",
       "  </thead>\n",
       "  <tbody>\n",
       "    <tr>\n",
       "      <th>5038</th>\n",
       "      <td>0</td>\n",
       "      <td>0</td>\n",
       "      <td>NaN</td>\n",
       "      <td>NaN</td>\n",
       "      <td>0.995937</td>\n",
       "      <td>0.004063</td>\n",
       "    </tr>\n",
       "    <tr>\n",
       "      <th>315</th>\n",
       "      <td>0</td>\n",
       "      <td>0</td>\n",
       "      <td>Active</td>\n",
       "      <td>Active</td>\n",
       "      <td>0.999929</td>\n",
       "      <td>0.000071</td>\n",
       "    </tr>\n",
       "    <tr>\n",
       "      <th>4372</th>\n",
       "      <td>0</td>\n",
       "      <td>0</td>\n",
       "      <td>NaN</td>\n",
       "      <td>NaN</td>\n",
       "      <td>0.999909</td>\n",
       "      <td>0.000091</td>\n",
       "    </tr>\n",
       "    <tr>\n",
       "      <th>1287</th>\n",
       "      <td>0</td>\n",
       "      <td>0</td>\n",
       "      <td>Active</td>\n",
       "      <td>Active</td>\n",
       "      <td>0.999881</td>\n",
       "      <td>0.000119</td>\n",
       "    </tr>\n",
       "    <tr>\n",
       "      <th>2458</th>\n",
       "      <td>0</td>\n",
       "      <td>0</td>\n",
       "      <td>NaN</td>\n",
       "      <td>NaN</td>\n",
       "      <td>0.999986</td>\n",
       "      <td>0.000014</td>\n",
       "    </tr>\n",
       "    <tr>\n",
       "      <th>...</th>\n",
       "      <td>...</td>\n",
       "      <td>...</td>\n",
       "      <td>...</td>\n",
       "      <td>...</td>\n",
       "      <td>...</td>\n",
       "      <td>...</td>\n",
       "    </tr>\n",
       "    <tr>\n",
       "      <th>5296</th>\n",
       "      <td>0</td>\n",
       "      <td>0</td>\n",
       "      <td>NaN</td>\n",
       "      <td>NaN</td>\n",
       "      <td>0.996366</td>\n",
       "      <td>0.003634</td>\n",
       "    </tr>\n",
       "    <tr>\n",
       "      <th>7843</th>\n",
       "      <td>0</td>\n",
       "      <td>0</td>\n",
       "      <td>NaN</td>\n",
       "      <td>NaN</td>\n",
       "      <td>0.000606</td>\n",
       "      <td>0.999394</td>\n",
       "    </tr>\n",
       "    <tr>\n",
       "      <th>4189</th>\n",
       "      <td>0</td>\n",
       "      <td>0</td>\n",
       "      <td>NaN</td>\n",
       "      <td>NaN</td>\n",
       "      <td>0.999849</td>\n",
       "      <td>0.000151</td>\n",
       "    </tr>\n",
       "    <tr>\n",
       "      <th>3922</th>\n",
       "      <td>0</td>\n",
       "      <td>0</td>\n",
       "      <td>NaN</td>\n",
       "      <td>NaN</td>\n",
       "      <td>0.999565</td>\n",
       "      <td>0.000435</td>\n",
       "    </tr>\n",
       "    <tr>\n",
       "      <th>1768</th>\n",
       "      <td>0</td>\n",
       "      <td>0</td>\n",
       "      <td>NaN</td>\n",
       "      <td>NaN</td>\n",
       "      <td>0.999727</td>\n",
       "      <td>0.000273</td>\n",
       "    </tr>\n",
       "  </tbody>\n",
       "</table>\n",
       "<p>1586 rows × 6 columns</p>\n",
       "</div>"
      ],
      "text/plain": [
       "      Serial_number  Model  Actual Prediction  Active_probability  \\\n",
       "5038              0      0     NaN        NaN            0.995937   \n",
       "315               0      0  Active     Active            0.999929   \n",
       "4372              0      0     NaN        NaN            0.999909   \n",
       "1287              0      0  Active     Active            0.999881   \n",
       "2458              0      0     NaN        NaN            0.999986   \n",
       "...             ...    ...     ...        ...                 ...   \n",
       "5296              0      0     NaN        NaN            0.996366   \n",
       "7843              0      0     NaN        NaN            0.000606   \n",
       "4189              0      0     NaN        NaN            0.999849   \n",
       "3922              0      0     NaN        NaN            0.999565   \n",
       "1768              0      0     NaN        NaN            0.999727   \n",
       "\n",
       "      Failure_probability  \n",
       "5038             0.004063  \n",
       "315              0.000071  \n",
       "4372             0.000091  \n",
       "1287             0.000119  \n",
       "2458             0.000014  \n",
       "...                   ...  \n",
       "5296             0.003634  \n",
       "7843             0.999394  \n",
       "4189             0.000151  \n",
       "3922             0.000435  \n",
       "1768             0.000273  \n",
       "\n",
       "[1586 rows x 6 columns]"
      ]
     },
     "execution_count": 56,
     "metadata": {},
     "output_type": "execute_result"
    }
   ],
   "source": [
    "df"
   ]
  },
  {
   "cell_type": "code",
   "execution_count": null,
   "id": "6043b018-65fc-4b59-b006-65b38e307c18",
   "metadata": {},
   "outputs": [],
   "source": []
  },
  {
   "cell_type": "code",
   "execution_count": 58,
   "id": "075ffd69-fe4e-451c-85fc-4c6b5b3670fa",
   "metadata": {},
   "outputs": [],
   "source": [
    "df.to_csv('HDD_failure_predictions.csv',index=False)"
   ]
  },
  {
   "cell_type": "code",
   "execution_count": null,
   "id": "ee0a2197-8655-44e1-a8ca-8fa3651b2140",
   "metadata": {},
   "outputs": [],
   "source": []
  },
  {
   "cell_type": "code",
   "execution_count": null,
   "id": "af1e0e6b-1743-438a-8f47-0ebf7685a792",
   "metadata": {},
   "outputs": [],
   "source": []
  },
  {
   "cell_type": "code",
   "execution_count": 1,
   "id": "0855649d-7b37-48f4-bc45-07dc5b72e8e4",
   "metadata": {},
   "outputs": [],
   "source": [
    "import pandas as pd\n",
    "df=pd.read_csv('./send.csv')\n",
    "df.loc[:500].to_csv('upload.csv')"
   ]
  },
  {
   "cell_type": "code",
   "execution_count": null,
   "id": "213e1efd-9d33-492c-bc62-42fd13168fca",
   "metadata": {},
   "outputs": [],
   "source": []
  }
 ],
 "metadata": {
  "kernelspec": {
   "display_name": "Python 3 (ipykernel)",
   "language": "python",
   "name": "python3"
  },
  "language_info": {
   "codemirror_mode": {
    "name": "ipython",
    "version": 3
   },
   "file_extension": ".py",
   "mimetype": "text/x-python",
   "name": "python",
   "nbconvert_exporter": "python",
   "pygments_lexer": "ipython3",
   "version": "3.8.10"
  }
 },
 "nbformat": 4,
 "nbformat_minor": 5
}
